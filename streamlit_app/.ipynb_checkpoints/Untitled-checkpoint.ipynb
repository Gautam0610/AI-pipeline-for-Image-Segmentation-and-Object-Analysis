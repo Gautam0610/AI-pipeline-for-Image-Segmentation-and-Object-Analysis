{
 "cells": [
  {
   "cell_type": "code",
   "execution_count": 2,
   "id": "0e80f26a",
   "metadata": {},
   "outputs": [
    {
     "ename": "NameError",
     "evalue": "name '__file__' is not defined",
     "output_type": "error",
     "traceback": [
      "\u001b[1;31m---------------------------------------------------------------------------\u001b[0m",
      "\u001b[1;31mNameError\u001b[0m                                 Traceback (most recent call last)",
      "Cell \u001b[1;32mIn[2], line 5\u001b[0m\n\u001b[0;32m      2\u001b[0m \u001b[38;5;28;01mimport\u001b[39;00m \u001b[38;5;21;01mos\u001b[39;00m\n\u001b[0;32m      4\u001b[0m \u001b[38;5;66;03m# Add the 'models' directory to the Python path\u001b[39;00m\n\u001b[1;32m----> 5\u001b[0m sys\u001b[38;5;241m.\u001b[39mpath\u001b[38;5;241m.\u001b[39mappend(os\u001b[38;5;241m.\u001b[39mpath\u001b[38;5;241m.\u001b[39mabspath(os\u001b[38;5;241m.\u001b[39mpath\u001b[38;5;241m.\u001b[39mjoin(os\u001b[38;5;241m.\u001b[39mpath\u001b[38;5;241m.\u001b[39mdirname(\u001b[38;5;18;43m__file__\u001b[39;49m), \u001b[38;5;124m'\u001b[39m\u001b[38;5;124m../models\u001b[39m\u001b[38;5;124m'\u001b[39m)))\n\u001b[0;32m      7\u001b[0m \u001b[38;5;28;01mimport\u001b[39;00m \u001b[38;5;21;01mstreamlit\u001b[39;00m \u001b[38;5;28;01mas\u001b[39;00m \u001b[38;5;21;01mst\u001b[39;00m\n\u001b[0;32m      8\u001b[0m \u001b[38;5;28;01mfrom\u001b[39;00m \u001b[38;5;21;01mPIL\u001b[39;00m \u001b[38;5;28;01mimport\u001b[39;00m Image\n",
      "\u001b[1;31mNameError\u001b[0m: name '__file__' is not defined"
     ]
    }
   ],
   "source": [
    "import sys\n",
    "import os\n",
    "\n",
    "# Add the 'models' directory to the Python path\n",
    "sys.path.append(os.path.abspath(os.path.join(os.path.dirname(__file__), '../models')))\n",
    "\n",
    "import streamlit as st\n",
    "from PIL import Image\n",
    "import numpy as np\n",
    "from segmentation_model import segment_image\n",
    "from object_extraction import extract_objects\n",
    "from object_identification import identify_objects\n",
    "from text_extraction_model import extract_text\n",
    "from summarization_model import summarize_attributes\n",
    "from utils.data_mapping import map_data_to_objects\n",
    "from utils.visualization import visualize_objects_on_image\n",
    "\n",
    "st.title(\"AI Pipeline for Image Segmentation and Object Analysis\")\n",
    "\n",
    "uploaded_file = st.file_uploader(\"Choose an image...\", type=\"jpg\")\n",
    "\n",
    "if uploaded_file is not None:\n",
    "    # Open the image and convert it to a NumPy array\n",
    "    image = Image.open(uploaded_file)\n",
    "    image_np = np.array(image)\n",
    "    st.image(image, caption='Uploaded Image.', use_column_width=True)\n",
    "    \n",
    "    st.write(\"Running segmentation...\")\n",
    "    segmented = segment_image(image_np)  # Pass NumPy array to segmentation function\n",
    "    \n",
    "    st.write(\"Extracting objects...\")\n",
    "    objects = extract_objects(segmented)  # Pass segmented image to extraction function\n",
    "    \n",
    "    st.write(\"Identifying objects...\")\n",
    "    identified_objects = identify_objects(objects)  # Pass extracted objects to identification function\n",
    "    \n",
    "    st.write(\"Extracting text...\")\n",
    "    text_data = [extract_text(obj) for obj in objects]  # Extract text from each object image\n",
    "    \n",
    "    st.write(\"Summarizing attributes...\")\n",
    "    summaries = summarize_attributes(identified_objects, text_data)  # Pass identified objects and text data\n",
    "    \n",
    "    st.write(\"Mapping data...\")\n",
    "    mapped_data = map_data_to_objects(objects, text_data, identified_objects)  # Map data to objects\n",
    "    \n",
    "    st.write(\"Generating output...\")\n",
    "    final_image = visualize_objects_on_image(image_np, mapped_data)  # Visualize mapped data on image\n",
    "    st.image(final_image, caption='Processed Image.', use_column_width=True)\n",
    "    \n",
    "    st.write(\"Pipeline completed.\")"
   ]
  },
  {
   "cell_type": "code",
   "execution_count": null,
   "id": "f4c950ad",
   "metadata": {},
   "outputs": [],
   "source": []
  }
 ],
 "metadata": {
  "kernelspec": {
   "display_name": "Python 3 (ipykernel)",
   "language": "python",
   "name": "python3"
  },
  "language_info": {
   "codemirror_mode": {
    "name": "ipython",
    "version": 3
   },
   "file_extension": ".py",
   "mimetype": "text/x-python",
   "name": "python",
   "nbconvert_exporter": "python",
   "pygments_lexer": "ipython3",
   "version": "3.10.9"
  }
 },
 "nbformat": 4,
 "nbformat_minor": 5
}
